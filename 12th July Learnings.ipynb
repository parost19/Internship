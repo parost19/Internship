{
 "cells": [
  {
   "cell_type": "code",
   "execution_count": 3,
   "id": "684752aa-ca7c-42da-8eea-e1bf09ff76ae",
   "metadata": {},
   "outputs": [
    {
     "name": "stdout",
     "output_type": "stream",
     "text": [
      "[LightGBM] [Warning] Found whitespace in feature_names, replace with underlines\n",
      "[LightGBM] [Info] Auto-choosing col-wise multi-threading, the overhead of testing was 0.000171 seconds.\n",
      "You can set `force_col_wise=true` to remove the overhead.\n",
      "[LightGBM] [Info] Total Bins 1254\n",
      "[LightGBM] [Info] Number of data points in the train set: 4000, number of used features: 5\n",
      "[LightGBM] [Info] Start training from score 1229576.992597\n",
      "RandomForest MSE: 14465132338.701965\n",
      "Predicted Price for the first test sample using RandomForest: 1318734.8938716897\n",
      "XGBoost MSE: 14912750470.898375\n",
      "Predicted Price for the first test sample using XGBoost: 1297134.375\n",
      "LightGBM MSE: 12313469588.940966\n",
      "Predicted Price for the first test sample using LightGBM: 1332323.9035836137\n"
     ]
    }
   ],
   "source": [
    "import pandas as pd\n",
    "from sklearn.model_selection import train_test_split\n",
    "from sklearn.ensemble import RandomForestRegressor\n",
    "from xgboost import XGBRegressor\n",
    "from lightgbm import LGBMRegressor\n",
    "from sklearn.metrics import mean_squared_error\n",
    "\n",
    "# Load the dataset\n",
    "file_path = 'C:/Users/Sri sai murari/Desktop/USA_Housing.csv'  # Update with the correct path if necessary\n",
    "data = pd.read_csv(file_path)\n",
    "\n",
    "# Drop the 'Address' column as it's not needed for the model\n",
    "data = data.drop(columns=['Address'])\n",
    "\n",
    "# Split the data into features and target\n",
    "X = data.drop(columns=['Price'])\n",
    "y = data['Price']\n",
    "\n",
    "# Split the data into training and testing sets\n",
    "X_train, X_test, y_train, y_test = train_test_split(X, y, test_size=0.2, random_state=42)\n",
    "\n",
    "# Initialize the models\n",
    "rf_model = RandomForestRegressor(random_state=42)\n",
    "xgb_model = XGBRegressor(random_state=42)\n",
    "lgbm_model = LGBMRegressor(random_state=42)\n",
    "\n",
    "# Train the models\n",
    "rf_model.fit(X_train, y_train)\n",
    "xgb_model.fit(X_train, y_train)\n",
    "lgbm_model.fit(X_train, y_train)\n",
    "\n",
    "# Make predictions\n",
    "rf_predictions = rf_model.predict(X_test)\n",
    "xgb_predictions = xgb_model.predict(X_test)\n",
    "lgbm_predictions = lgbm_model.predict(X_test)\n",
    "\n",
    "# Calculate Mean Squared Error for each model\n",
    "rf_mse = mean_squared_error(y_test, rf_predictions)\n",
    "xgb_mse = mean_squared_error(y_test, xgb_predictions)\n",
    "lgbm_mse = mean_squared_error(y_test, lgbm_predictions)\n",
    "\n",
    "# Predict the price for the first test sample using each model\n",
    "rf_predicted_price = rf_model.predict(X_test.iloc[[0]])\n",
    "xgb_predicted_price = xgb_model.predict(X_test.iloc[[0]])\n",
    "lgbm_predicted_price = lgbm_model.predict(X_test.iloc[[0]])\n",
    "\n",
    "print(f'RandomForest MSE: {rf_mse}')\n",
    "print(f\"Predicted Price for the first test sample using RandomForest: {rf_predicted_price[0]}\")\n",
    "\n",
    "print(f'XGBoost MSE: {xgb_mse}')\n",
    "print(f\"Predicted Price for the first test sample using XGBoost: {xgb_predicted_price[0]}\")\n",
    "\n",
    "print(f'LightGBM MSE: {lgbm_mse}')\n",
    "print(f\"Predicted Price for the first test sample using LightGBM: {lgbm_predicted_price[0]}\")\n"
   ]
  },
  {
   "cell_type": "code",
   "execution_count": null,
   "id": "1a436833-58f2-470d-a0a7-824592749f36",
   "metadata": {},
   "outputs": [],
   "source": []
  }
 ],
 "metadata": {
  "kernelspec": {
   "display_name": "Python 3 (ipykernel)",
   "language": "python",
   "name": "python3"
  },
  "language_info": {
   "codemirror_mode": {
    "name": "ipython",
    "version": 3
   },
   "file_extension": ".py",
   "mimetype": "text/x-python",
   "name": "python",
   "nbconvert_exporter": "python",
   "pygments_lexer": "ipython3",
   "version": "3.11.7"
  }
 },
 "nbformat": 4,
 "nbformat_minor": 5
}
